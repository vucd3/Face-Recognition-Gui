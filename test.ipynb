{
 "metadata": {
  "language_info": {
   "codemirror_mode": {
    "name": "ipython",
    "version": 3
   },
   "file_extension": ".py",
   "mimetype": "text/x-python",
   "name": "python",
   "nbconvert_exporter": "python",
   "pygments_lexer": "ipython3",
   "version": "3.8.5-final"
  },
  "orig_nbformat": 2,
  "kernelspec": {
   "name": "python3",
   "display_name": "Python 3.8.5 64-bit",
   "metadata": {
    "interpreter": {
     "hash": "31f2aee4e71d21fbe5cf8b01ff0e069b9275f58929596ceb00d14d90e3e16cd6"
    }
   }
  }
 },
 "nbformat": 4,
 "nbformat_minor": 2,
 "cells": [
  {
   "cell_type": "code",
   "execution_count": 2,
   "metadata": {},
   "outputs": [],
   "source": [
    "import pickle\n",
    "import numpy as np\n",
    "import cv2\n",
    "from imutils import paths\n",
    "import re"
   ]
  },
  {
   "cell_type": "code",
   "execution_count": 3,
   "metadata": {},
   "outputs": [],
   "source": [
    "with open('encodings.pickle', 'rb') as g:\n",
    "    data = pickle.load(g)\n",
    "    g.close()"
   ]
  },
  {
   "cell_type": "code",
   "execution_count": 4,
   "metadata": {},
   "outputs": [],
   "source": [
    "names = data[\"names\"]\n",
    "images = data[\"encodings\"]"
   ]
  },
  {
   "cell_type": "code",
   "execution_count": 5,
   "metadata": {},
   "outputs": [
    {
     "output_type": "execute_result",
     "data": {
      "text/plain": [
       "['Chuong',\n",
       " 'Vu',\n",
       " 'Chuong',\n",
       " 'Vu',\n",
       " 'Chuong',\n",
       " 'Vu',\n",
       " 'Chuong',\n",
       " 'Vu',\n",
       " 'Chuong',\n",
       " 'Vu',\n",
       " 'Chuong',\n",
       " 'Vu',\n",
       " 'Vu',\n",
       " 'Chuong']"
      ]
     },
     "metadata": {},
     "execution_count": 5
    }
   ],
   "source": [
    "names"
   ]
  },
  {
   "cell_type": "code",
   "execution_count": 3,
   "metadata": {},
   "outputs": [],
   "source": [
    "from PyQt5.QtCore import QDate, QTime, QDateTime, Qt\n"
   ]
  },
  {
   "cell_type": "code",
   "execution_count": 4,
   "metadata": {},
   "outputs": [],
   "source": [
    "date_now = QDate.currentDate()\n"
   ]
  },
  {
   "cell_type": "code",
   "execution_count": 12,
   "metadata": {},
   "outputs": [],
   "source": [
    "datetime = QDateTime.currentDateTime()"
   ]
  },
  {
   "cell_type": "code",
   "execution_count": 14,
   "metadata": {},
   "outputs": [
    {
     "output_type": "execute_result",
     "data": {
      "text/plain": [
       "'Th 7 thg 3 13 22:50:50 2021'"
      ]
     },
     "metadata": {},
     "execution_count": 14
    }
   ],
   "source": [
    "datetime.toString()"
   ]
  },
  {
   "cell_type": "code",
   "execution_count": 15,
   "metadata": {},
   "outputs": [
    {
     "output_type": "stream",
     "name": "stdout",
     "text": [
      "2021-03-13\nThứ Bảy, 13 tháng 3, 2021\n"
     ]
    }
   ],
   "source": [
    "print(now.toString(Qt.ISODate))\n",
    "print(now.toString(Qt.DefaultLocaleLongDate))"
   ]
  },
  {
   "cell_type": "code",
   "execution_count": 6,
   "metadata": {},
   "outputs": [
    {
     "output_type": "execute_result",
     "data": {
      "text/plain": [
       "'CN thg 3 14 2021'"
      ]
     },
     "metadata": {},
     "execution_count": 6
    }
   ],
   "source": [
    "date_now.toString()"
   ]
  },
  {
   "cell_type": "code",
   "execution_count": null,
   "metadata": {},
   "outputs": [],
   "source": []
  }
 ]
}